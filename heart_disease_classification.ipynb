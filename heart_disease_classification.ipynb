{
  "nbformat": 4,
  "nbformat_minor": 0,
  "metadata": {
    "colab": {
      "name": "proj1",
      "provenance": []
    },
    "kernelspec": {
      "name": "python3",
      "display_name": "Python 3"
    },
    "language_info": {
      "name": "python"
    }
  },
  "cells": [
    {
      "cell_type": "markdown",
      "source": [
        "## **DICTIONARY**\n",
        "1. **age** - age in years\n",
        "\n",
        "2. **sex** - (1 = male; 0 = female)\n",
        "\n",
        "3. **cp** - chest pain type\n",
        "0: Typical angina: chest pain related decrease blood supply to the heart\n",
        "1: Atypical angina: chest pain not related to heart\n",
        "2: Non-anginal pain: typically esophageal spasms (non heart related)\n",
        "3: Asymptomatic: chest pain not showing signs of disease\n",
        "\n",
        "4. **trestbps** - resting blood pressure (in mm Hg on admission to the hospital) anything above 130-140 is typically cause for concern\n",
        "\n",
        "5. **chol** - serum cholestoral in mg/dl\n",
        "serum = LDL + HDL + .2 * triglycerides\n",
        "above 200 is cause for concern\n",
        "\n",
        "6. **fbs** - (fasting blood sugar > 120 mg/dl) (1 = true; 0 = false)\n",
        "'>126' mg/dL signals diabetes\n",
        "\n",
        "7. **restecg** - resting electrocardiographic results\n",
        "0: Nothing to note\n",
        "1: ST-T Wave abnormality\n",
        "can range from mild symptoms to severe problems\n",
        "signals non-normal heart beat\n",
        "2: Possible or definite left ventricular hypertrophy\n",
        "Enlarged heart's main pumping chamber\n",
        "\n",
        "8. **thalach** - maximum heart rate achieved\n",
        "\n",
        "9. **exang** - exercise induced angina (1 = yes; 0 = no)\n",
        "\n",
        "10. **oldpeak** - ST depression induced by exercise relative to rest looks at stress of heart during excercise unhealthy heart will stress more\n",
        "\n",
        "11. **slope** - the slope of the peak exercise ST segment\n",
        "0: Upsloping: better heart rate with excercise (uncommon)\n",
        "1: Flatsloping: minimal change (typical healthy heart)\n",
        "2: Downslopins: signs of unhealthy heart\n",
        "\n",
        "12. **ca** - number of major vessels (0-3) colored by flourosopy\n",
        "colored vessel means the doctor can see the blood passing through\n",
        "the more blood movement the better (no clots)\n",
        "\n",
        "13. **thal** - thalium stress result\n",
        "1,3: normal\n",
        "6: fixed defect: used to be defect but ok now\n",
        "7: reversable defect: no proper blood movement when excercising\n",
        "\n",
        "14. **target** - have disease or not (1=yes, 0=no) (= the predicted attribute)"
      ],
      "metadata": {
        "id": "OmwjCPvNLnmb"
      }
    },
    {
      "cell_type": "code",
      "source": [
        "# Importing the tools\n",
        "\n",
        "# EDA\n",
        "import numpy as np\n",
        "import pandas as pd\n",
        "import seaborn as sns\n",
        "import matplotlib.pyplot as plt\n",
        "\n",
        "%matplotlib inline\n",
        "\n",
        "# Models\n",
        "from sklearn.linear_model import LogisticRegression\n",
        "from sklearn.neighbors import KNeighborsClassifier\n",
        "from sklearn.ensemble import RandomForestClassifier\n",
        "\n",
        "# Evaluation\n",
        "from sklearn.model_selection import train_test_split, cross_val_score\n",
        "from sklearn.model_selection import RandomizedSearchCV, GridSearchCV\n",
        "from sklearn.metrics import confusion_matrix, classification_report\n",
        "from sklearn.metrics import precision_score, recall_score, f1_score\n",
        "from sklearn.metrics import RocCurveDisplay"
      ],
      "metadata": {
        "id": "ut0ctSJ_LvqK"
      },
      "execution_count": null,
      "outputs": []
    },
    {
      "cell_type": "code",
      "source": [
        "df = pd.read_csv('/content/drive/MyDrive/Colab Notebooks/files/heart-disease.csv')"
      ],
      "metadata": {
        "id": "BWPBqq9DPPh7"
      },
      "execution_count": null,
      "outputs": []
    },
    {
      "cell_type": "markdown",
      "source": [
        "# **Data Exploration**"
      ],
      "metadata": {
        "id": "cliHNlSHYK3o"
      }
    },
    {
      "cell_type": "code",
      "source": [
        "df.shape"
      ],
      "metadata": {
        "colab": {
          "base_uri": "https://localhost:8080/"
        },
        "id": "x4wKLTByYdML",
        "outputId": "210acebc-8576-4ae7-dd93-a729a32a2a7a"
      },
      "execution_count": null,
      "outputs": [
        {
          "output_type": "execute_result",
          "data": {
            "text/plain": [
              "(303, 14)"
            ]
          },
          "metadata": {},
          "execution_count": 18
        }
      ]
    },
    {
      "cell_type": "code",
      "source": [
        "df['target'].value_counts().plot(kind='bar', color=['indianred', 'lightskyblue']);"
      ],
      "metadata": {
        "colab": {
          "base_uri": "https://localhost:8080/",
          "height": 262
        },
        "id": "G4ERcJrDUZ7p",
        "outputId": "d49a9d10-462c-4a5b-aa93-0f890b1304e6"
      },
      "execution_count": null,
      "outputs": [
        {
          "output_type": "display_data",
          "data": {
            "text/plain": [
              "<Figure size 432x288 with 1 Axes>"
            ],
            "image/png": "[encoded data removed]"
          },
          "metadata": {
            "needs_background": "light"
          }
        }
      ]
    },
    {
      "cell_type": "code",
      "source": [
        "df.isna().sum()"
      ],
      "metadata": {
        "colab": {
          "base_uri": "https://localhost:8080/"
        },
        "id": "z9a6W-9SW_81",
        "outputId": "fd9536c3-166f-4b44-be69-63b5f6786a98"
      },
      "execution_count": null,
      "outputs": [
        {
          "output_type": "execute_result",
          "data": {
            "text/plain": [
              "age         0\n",
              "sex         0\n",
              "cp          0\n",
              "trestbps    0\n",
              "chol        0\n",
              "fbs         0\n",
              "restecg     0\n",
              "thalach     0\n",
              "exang       0\n",
              "oldpeak     0\n",
              "slope       0\n",
              "ca          0\n",
              "thal        0\n",
              "target      0\n",
              "dtype: int64"
            ]
          },
          "metadata": {},
          "execution_count": 19
        }
      ]
    },
    {
      "cell_type": "code",
      "source": [
        "df.dtypes"
      ],
      "metadata": {
        "colab": {
          "base_uri": "https://localhost:8080/"
        },
        "id": "bNJJMnirYraF",
        "outputId": "157a3bb9-b124-4ba7-ef84-4c7c27e9ffe5"
      },
      "execution_count": null,
      "outputs": [
        {
          "output_type": "execute_result",
          "data": {
            "text/plain": [
              "age           int64\n",
              "sex           int64\n",
              "cp            int64\n",
              "trestbps      int64\n",
              "chol          int64\n",
              "fbs           int64\n",
              "restecg       int64\n",
              "thalach       int64\n",
              "exang         int64\n",
              "oldpeak     float64\n",
              "slope         int64\n",
              "ca            int64\n",
              "thal          int64\n",
              "target        int64\n",
              "dtype: object"
            ]
          },
          "metadata": {},
          "execution_count": 20
        }
      ]
    },
    {
      "cell_type": "markdown",
      "source": [
        "### Heart Disease by sex"
      ],
      "metadata": {
        "id": "zfd62s1xgSTl"
      }
    },
    {
      "cell_type": "code",
      "source": [
        "pd.crosstab(df['target'], df['sex']).plot(kind='bar', color=['indianred', 'lightskyblue'], figsize=(10,6))\n",
        "plt.legend(['Female', 'Male'],fontsize=16)\n",
        "plt.title('Heart Disease by sex', fontsize=18)\n",
        "plt.xlabel('0 = No Disease, 1 = Disease', fontsize=16)\n",
        "plt.ylabel('Amount',fontsize=16)\n",
        "plt.xticks(rotation=0)\n",
        "plt.show()"
      ],
      "metadata": {
        "colab": {
          "base_uri": "https://localhost:8080/",
          "height": 413
        },
        "id": "8VAVMPbOYs6N",
        "outputId": "786157c6-dbd0-47a2-aa73-59602195f4c8"
      },
      "execution_count": null,
      "outputs": [
        {
          "output_type": "display_data",
          "data": {
            "text/plain": [
              "<Figure size 720x432 with 1 Axes>"
            ],
            "image/png": "[encoded data removed]"
          },
          "metadata": {
            "needs_background": "light"
          }
        }
      ]
    },
    {
      "cell_type": "markdown",
      "source": [
        "### Age vs. Maximum Heart Rate for Heart Disease"
      ],
      "metadata": {
        "id": "A6b-5-feddzz"
      }
    },
    {
      "cell_type": "code",
      "source": [
        "plt.figure(figsize=(10, 6))\n",
        "\n",
        "plt.scatter(df['age'][df['target'] == 1],\n",
        "            df['thalach'][df['target'] == 1],\n",
        "            c='indianred')\n",
        "\n",
        "plt.scatter(df['age'][df['target'] == 0],\n",
        "            df['thalach'][df['target'] == 0],\n",
        "            c='lightskyblue')\n",
        "\n",
        "plt.legend(['Disease', 'Not Disease'], fontsize=16)\n",
        "plt.title('Heart Disease', fontsize=18)\n",
        "plt.xlabel('Age', fontsize=16)\n",
        "plt.ylabel('Maximum Heart Rate', fontsize=16)\n",
        "plt.show()"
      ],
      "metadata": {
        "colab": {
          "base_uri": "https://localhost:8080/",
          "height": 413
        },
        "id": "WqmtiZ_UahMx",
        "outputId": "a2f52e4b-06b3-4b21-cb91-9071f0e539f2"
      },
      "execution_count": null,
      "outputs": [
        {
          "output_type": "display_data",
          "data": {
            "text/plain": [
              "<Figure size 720x432 with 1 Axes>"
            ],
            "image/png": "[encoded data removed]"
          },
          "metadata": {
            "needs_background": "light"
          }
        }
      ]
    },
    {
      "cell_type": "markdown",
      "source": [
        "### Check Age Distribution"
      ],
      "metadata": {
        "id": "510vwRZTe_qd"
      }
    },
    {
      "cell_type": "code",
      "source": [
        "plt.figure(figsize=(10, 6))\n",
        "\n",
        "plt.hist(df['age']);"
      ],
      "metadata": {
        "colab": {
          "base_uri": "https://localhost:8080/",
          "height": 374
        },
        "id": "hBYa3UlrgOzo",
        "outputId": "b5bec807-7b3e-40d8-9f64-73b4de818fb8"
      },
      "execution_count": null,
      "outputs": [
        {
          "output_type": "display_data",
          "data": {
            "text/plain": [
              "<Figure size 720x432 with 1 Axes>"
            ],
            "image/png": "[encoded data removed]"
          },
          "metadata": {
            "needs_background": "light"
          }
        }
      ]
    },
    {
      "cell_type": "markdown",
      "source": [
        "### Target Correlation Matrix"
      ],
      "metadata": {
        "id": "YYzOEar3l09A"
      }
    },
    {
      "cell_type": "code",
      "source": [
        "corr_matrix = df.corr()[-1:]\n",
        "\n",
        "fig, ax = plt.subplots(figsize=(15,1))\n",
        "\n",
        "ax = sns.heatmap(corr_matrix,\n",
        "                 annot=True,\n",
        "                 cmap='Blues',\n",
        "                 cbar=False)"
      ],
      "metadata": {
        "colab": {
          "base_uri": "https://localhost:8080/",
          "height": 102
        },
        "id": "O47nXtVDgYiO",
        "outputId": "632a42b2-490e-40d1-c5ee-fe014a67bd23"
      },
      "execution_count": null,
      "outputs": [
        {
          "output_type": "display_data",
          "data": {
            "text/plain": [
              "<Figure size 1080x72 with 1 Axes>"
            ],
            "image/png": "[encoded data removed]"
          },
          "metadata": {
            "needs_background": "light"
          }
        }
      ]
    },
    {
      "cell_type": "markdown",
      "source": [
        "# **Modelling**"
      ],
      "metadata": {
        "id": "xWOLwiZckOuo"
      }
    },
    {
      "cell_type": "code",
      "source": [
        "# Split Data into X and y\n",
        "\n",
        "X = df.drop('target', axis=1)\n",
        "y = df['target']\n",
        "\n",
        "# Split data using train_test_split\n",
        "\n",
        "np.random.seed(42)\n",
        "\n",
        "X_train, X_test, y_train, y_test = train_test_split(X, y, test_size=0.2)"
      ],
      "metadata": {
        "id": "LLRvrHnxm6my"
      },
      "execution_count": null,
      "outputs": []
    },
    {
      "cell_type": "code",
      "source": [
        "# Train multiple models and check which one performs better\n",
        "np.random.seed(42)\n",
        "\n",
        "models = {\n",
        "    'Logistic Regression': LogisticRegression(),\n",
        "    'KNN': KNeighborsClassifier(),\n",
        "    'Random Forest': RandomForestClassifier()\n",
        "}\n",
        "\n",
        "for name, model in models.items():\n",
        "  model.fit(X_train, y_train)\n",
        "  print(f'The score for {name} is: {model.score(X_test, y_test)}')"
      ],
      "metadata": {
        "colab": {
          "base_uri": "https://localhost:8080/"
        },
        "id": "HQjDcUxGwhYj",
        "outputId": "94193c12-2dc5-4f9f-ba73-0509d93c55b0"
      },
      "execution_count": null,
      "outputs": [
        {
          "output_type": "stream",
          "name": "stderr",
          "text": [
            "/usr/local/lib/python3.7/dist-packages/sklearn/linear_model/_logistic.py:818: ConvergenceWarning: lbfgs failed to converge (status=1):\n",
            "STOP: TOTAL NO. of ITERATIONS REACHED LIMIT.\n",
            "\n",
            "Increase the number of iterations (max_iter) or scale the data as shown in:\n",
            "    https://scikit-learn.org/stable/modules/preprocessing.html\n",
            "Please also refer to the documentation for alternative solver options:\n",
            "    https://scikit-learn.org/stable/modules/linear_model.html#logistic-regression\n",
            "  extra_warning_msg=_LOGISTIC_SOLVER_CONVERGENCE_MSG,\n"
          ]
        },
        {
          "output_type": "stream",
          "name": "stdout",
          "text": [
            "The score for Logistic Regression is: 0.8852459016393442\n",
            "The score for KNN is: 0.6885245901639344\n",
            "The score for Random Forest is: 0.8360655737704918\n"
          ]
        }
      ]
    },
    {
      "cell_type": "code",
      "source": [
        "# Hyperparameter tuning \n",
        "\n",
        "logistic_regression_params = {\n",
        "    \"C\": np.logspace(-4, 4, 20),\n",
        "    \"solver\": [\"liblinear\"]}\n",
        "\n",
        "random_forest_params = {\n",
        "    'n_estimators': np.arange(100, 1001, 100),\n",
        "    'max_depth': [None, 3, 5],\n",
        "    'min_samples_split': [2, 4, 8], \n",
        "    'min_samples_leaf': [2, 3, 5, 10]\n",
        "}"
      ],
      "metadata": {
        "id": "6xTrRChyH0gq"
      },
      "execution_count": null,
      "outputs": []
    },
    {
      "cell_type": "code",
      "source": [
        "# Tune Logistic Regression\n",
        "\n",
        "np.random.seed(42)\n",
        "\n",
        "rs_log_reg = RandomizedSearchCV(estimator=LogisticRegression(),\n",
        "                                param_distributions=logistic_regression_params,\n",
        "                                cv=5,\n",
        "                                n_iter=20,\n",
        "                                verbose=True)\n",
        "\n",
        "rs_log_reg.fit(X_train, y_train)"
      ],
      "metadata": {
        "colab": {
          "base_uri": "https://localhost:8080/"
        },
        "id": "X3wtGz8bU_ww",
        "outputId": "6b9c1cb3-d166-4451-f679-ba78e518288b"
      },
      "execution_count": null,
      "outputs": [
        {
          "output_type": "stream",
          "name": "stdout",
          "text": [
            "Fitting 5 folds for each of 20 candidates, totalling 100 fits\n"
          ]
        },
        {
          "output_type": "execute_result",
          "data": {
            "text/plain": [
              "RandomizedSearchCV(cv=5, estimator=LogisticRegression(), n_iter=20,\n",
              "                   param_distributions={'C': array([1.00000000e-04, 2.63665090e-04, 6.95192796e-04, 1.83298071e-03,\n",
              "       4.83293024e-03, 1.27427499e-02, 3.35981829e-02, 8.85866790e-02,\n",
              "       2.33572147e-01, 6.15848211e-01, 1.62377674e+00, 4.28133240e+00,\n",
              "       1.12883789e+01, 2.97635144e+01, 7.84759970e+01, 2.06913808e+02,\n",
              "       5.45559478e+02, 1.43844989e+03, 3.79269019e+03, 1.00000000e+04]),\n",
              "                                        'solver': ['liblinear']},\n",
              "                   verbose=True)"
            ]
          },
          "metadata": {},
          "execution_count": 143
        }
      ]
    },
    {
      "cell_type": "code",
      "source": [
        "rs_log_reg.best_params_"
      ],
      "metadata": {
        "colab": {
          "base_uri": "https://localhost:8080/"
        },
        "id": "E8m4Y_iKYEnT",
        "outputId": "3a8fe7a4-b069-4e8d-c8d2-bfc7577d429c"
      },
      "execution_count": null,
      "outputs": [
        {
          "output_type": "execute_result",
          "data": {
            "text/plain": [
              "{'C': 0.23357214690901212, 'solver': 'liblinear'}"
            ]
          },
          "metadata": {},
          "execution_count": 147
        }
      ]
    },
    {
      "cell_type": "code",
      "source": [
        "rs_log_reg.score(X_test, y_test)"
      ],
      "metadata": {
        "colab": {
          "base_uri": "https://localhost:8080/"
        },
        "id": "yRUlP2-MZ6p9",
        "outputId": "75034988-4797-4495-d697-f66ec095d6f8"
      },
      "execution_count": null,
      "outputs": [
        {
          "output_type": "execute_result",
          "data": {
            "text/plain": [
              "0.8852459016393442"
            ]
          },
          "metadata": {},
          "execution_count": 148
        }
      ]
    },
    {
      "cell_type": "code",
      "source": [
        "# Tune Random Forest Classifier\n",
        "\n",
        "np.random.seed(42)\n",
        "\n",
        "rs_ran_for = RandomizedSearchCV(estimator=RandomForestClassifier(),\n",
        "                                param_distributions=random_forest_params,\n",
        "                                cv=5,\n",
        "                                n_iter=20,\n",
        "                                verbose=True)\n",
        "\n",
        "rs_ran_for.fit(X_train, y_train)"
      ],
      "metadata": {
        "colab": {
          "base_uri": "https://localhost:8080/"
        },
        "id": "DpIb2vHNZ_ns",
        "outputId": "8cad864d-e9db-4bb2-9822-3a79658af866"
      },
      "execution_count": null,
      "outputs": [
        {
          "output_type": "stream",
          "name": "stdout",
          "text": [
            "Fitting 5 folds for each of 20 candidates, totalling 100 fits\n"
          ]
        },
        {
          "output_type": "execute_result",
          "data": {
            "text/plain": [
              "RandomizedSearchCV(cv=5, estimator=RandomForestClassifier(), n_iter=20,\n",
              "                   param_distributions={'max_depth': [None, 3, 5],\n",
              "                                        'min_samples_leaf': [2, 3, 5, 10],\n",
              "                                        'min_samples_split': [2, 4, 8],\n",
              "                                        'n_estimators': array([ 100,  200,  300,  400,  500,  600,  700,  800,  900, 1000])},\n",
              "                   verbose=True)"
            ]
          },
          "metadata": {},
          "execution_count": 160
        }
      ]
    },
    {
      "cell_type": "code",
      "source": [
        "rs_ran_for.best_params_"
      ],
      "metadata": {
        "colab": {
          "base_uri": "https://localhost:8080/"
        },
        "id": "4lQoM02ratjP",
        "outputId": "0261fcfd-bfc5-45d1-9e29-46a0eb69d31a"
      },
      "execution_count": null,
      "outputs": [
        {
          "output_type": "execute_result",
          "data": {
            "text/plain": [
              "{'max_depth': 5,\n",
              " 'min_samples_leaf': 5,\n",
              " 'min_samples_split': 2,\n",
              " 'n_estimators': 100}"
            ]
          },
          "metadata": {},
          "execution_count": 161
        }
      ]
    },
    {
      "cell_type": "code",
      "source": [
        " rs_ran_for.score(X_test, y_test)"
      ],
      "metadata": {
        "colab": {
          "base_uri": "https://localhost:8080/"
        },
        "id": "Rh7mfvlucJX_",
        "outputId": "eed38590-0a73-4d00-a7aa-37d49042feea"
      },
      "execution_count": null,
      "outputs": [
        {
          "output_type": "execute_result",
          "data": {
            "text/plain": [
              "0.8688524590163934"
            ]
          },
          "metadata": {},
          "execution_count": 162
        }
      ]
    },
    {
      "cell_type": "code",
      "source": [
        "# Tuning Logistic Regression model using GridSearchCV\n",
        "\n",
        "logistic_regression_params = {\n",
        "    \"C\": np.logspace(-4, 4, 30),\n",
        "    \"solver\": [\"liblinear\"]}\n",
        "\n",
        "gs_log_reg = GridSearchCV(estimator=LogisticRegression(),\n",
        "                          param_grid=logistic_regression_params,\n",
        "                          cv=5,\n",
        "                          verbose=True)\n",
        "\n",
        "gs_log_reg.fit(X_train, y_train)"
      ],
      "metadata": {
        "colab": {
          "base_uri": "https://localhost:8080/"
        },
        "id": "EfLbbbwccVbc",
        "outputId": "eb3dc025-701b-4600-acc8-50bd5d917e8c"
      },
      "execution_count": null,
      "outputs": [
        {
          "output_type": "stream",
          "name": "stdout",
          "text": [
            "Fitting 5 folds for each of 30 candidates, totalling 150 fits\n"
          ]
        },
        {
          "output_type": "execute_result",
          "data": {
            "text/plain": [
              "GridSearchCV(cv=5, estimator=LogisticRegression(),\n",
              "             param_grid={'C': array([1.00000000e-04, 1.88739182e-04, 3.56224789e-04, 6.72335754e-04,\n",
              "       1.26896100e-03, 2.39502662e-03, 4.52035366e-03, 8.53167852e-03,\n",
              "       1.61026203e-02, 3.03919538e-02, 5.73615251e-02, 1.08263673e-01,\n",
              "       2.04335972e-01, 3.85662042e-01, 7.27895384e-01, 1.37382380e+00,\n",
              "       2.59294380e+00, 4.89390092e+00, 9.23670857e+00, 1.74332882e+01,\n",
              "       3.29034456e+01, 6.21016942e+01, 1.17210230e+02, 2.21221629e+02,\n",
              "       4.17531894e+02, 7.88046282e+02, 1.48735211e+03, 2.80721620e+03,\n",
              "       5.29831691e+03, 1.00000000e+04]),\n",
              "                         'solver': ['liblinear']},\n",
              "             verbose=True)"
            ]
          },
          "metadata": {},
          "execution_count": 163
        }
      ]
    },
    {
      "cell_type": "code",
      "source": [
        "gs_log_reg.best_params_"
      ],
      "metadata": {
        "colab": {
          "base_uri": "https://localhost:8080/"
        },
        "id": "bNcDxV_RfsRX",
        "outputId": "7b5f6f24-834a-4153-ee02-d45f828cbc66"
      },
      "execution_count": null,
      "outputs": [
        {
          "output_type": "execute_result",
          "data": {
            "text/plain": [
              "{'C': 0.20433597178569418, 'solver': 'liblinear'}"
            ]
          },
          "metadata": {},
          "execution_count": 164
        }
      ]
    },
    {
      "cell_type": "code",
      "source": [
        "gs_log_reg.score(X_test, y_test)"
      ],
      "metadata": {
        "colab": {
          "base_uri": "https://localhost:8080/"
        },
        "id": "DtaoLJLffytw",
        "outputId": "03c417c8-0379-472a-b4b0-c75dbdee28c1"
      },
      "execution_count": null,
      "outputs": [
        {
          "output_type": "execute_result",
          "data": {
            "text/plain": [
              "0.8852459016393442"
            ]
          },
          "metadata": {},
          "execution_count": 165
        }
      ]
    },
    {
      "cell_type": "markdown",
      "source": [
        "# **Evaluate Model**"
      ],
      "metadata": {
        "id": "dK-DWvalf24Z"
      }
    },
    {
      "cell_type": "code",
      "source": [
        "y_preds = gs_log_reg.predict(X_test)"
      ],
      "metadata": {
        "id": "Q1h2c74Sg1Ps"
      },
      "execution_count": null,
      "outputs": []
    },
    {
      "cell_type": "code",
      "source": [
        "# Plot ROC Curve\n",
        "\n",
        "RocCurveDisplay.from_predictions(y_test, y_preds);"
      ],
      "metadata": {
        "colab": {
          "base_uri": "https://localhost:8080/",
          "height": 279
        },
        "id": "_HsDiFlshZKh",
        "outputId": "7d506255-093b-4b74-a21e-9a4158467881"
      },
      "execution_count": null,
      "outputs": [
        {
          "output_type": "display_data",
          "data": {
            "text/plain": [
              "<Figure size 432x288 with 1 Axes>"
            ],
            "image/png": "[encoded data removed]"
          },
          "metadata": {
            "needs_background": "light"
          }
        }
      ]
    },
    {
      "cell_type": "code",
      "source": [
        "# Confusion Matrix\n",
        "\n",
        "conf_matrix = confusion_matrix(y_test, y_preds)\n",
        "fig, ax = plt.subplots(figsize=(4,4))\n",
        "ax = sns.heatmap(conf_matrix,\n",
        "                 annot=True,\n",
        "                 cbar=False\n",
        ")\n",
        "sns.set(font_scale=1.8)\n",
        "plt.xlabel('Predict Values')\n",
        "plt.ylabel('True Values')\n",
        "fig.show()"
      ],
      "metadata": {
        "colab": {
          "base_uri": "https://localhost:8080/",
          "height": 298
        },
        "id": "TKMKjOulkPpv",
        "outputId": "d48ad78c-acc2-4abe-a856-ba3f875a737c"
      },
      "execution_count": null,
      "outputs": [
        {
          "output_type": "display_data",
          "data": {
            "text/plain": [
              "<Figure size 288x288 with 1 Axes>"
            ],
            "image/png": "[encoded data removed]"
          },
          "metadata": {}
        }
      ]
    },
    {
      "cell_type": "code",
      "source": [
        "# Classification Report\n",
        "\n",
        "print(classification_report(y_test, y_preds))"
      ],
      "metadata": {
        "colab": {
          "base_uri": "https://localhost:8080/"
        },
        "id": "1oJdAGIAkeDY",
        "outputId": "b041fc30-ffdc-4ec1-d0db-7d4ff3c718af"
      },
      "execution_count": null,
      "outputs": [
        {
          "output_type": "stream",
          "name": "stdout",
          "text": [
            "              precision    recall  f1-score   support\n",
            "\n",
            "           0       0.89      0.86      0.88        29\n",
            "           1       0.88      0.91      0.89        32\n",
            "\n",
            "    accuracy                           0.89        61\n",
            "   macro avg       0.89      0.88      0.88        61\n",
            "weighted avg       0.89      0.89      0.89        61\n",
            "\n"
          ]
        }
      ]
    },
    {
      "cell_type": "code",
      "source": [
        "# Calculate precision, score and f1\n",
        "\n",
        "clf = LogisticRegression(C = 0.20433597178569418, \n",
        "                       solver = 'liblinear')\n",
        "\n",
        "cv_acc = cross_val_score(clf,\n",
        "                         X,\n",
        "                         y,\n",
        "                         cv=5,\n",
        "                         scoring='accuracy'\n",
        "                         ).mean()\n",
        "\n",
        "cv_rec = cross_val_score(clf,\n",
        "                         X,\n",
        "                         y,\n",
        "                         cv=5,\n",
        "                         scoring='recall'\n",
        "                         ).mean()\n",
        "\n",
        "cv_pre = cross_val_score(clf,\n",
        "                         X,\n",
        "                         y,\n",
        "                         cv=5,\n",
        "                         scoring='precision'\n",
        "                         ).mean()\n",
        "\n",
        "cv_f1 = cross_val_score(clf,\n",
        "                         X,\n",
        "                         y,\n",
        "                         cv=5,\n",
        "                         scoring='f1'\n",
        "                         ).mean()\n",
        "\n",
        "cv_evaluation = pd.DataFrame({\n",
        "    'Acc': cv_acc,\n",
        "    'Pre': cv_pre,\n",
        "    'Rec': cv_rec,\n",
        "    'F1': cv_f1\n",
        "}, index=[0])\n",
        "\n",
        "cv_evaluation.T.plot.bar(legend=False, title='Cross Validated Classification Metrics');"
      ],
      "metadata": {
        "colab": {
          "base_uri": "https://localhost:8080/",
          "height": 316
        },
        "id": "phDMeNlcmym2",
        "outputId": "773c9b23-e416-4b28-cf87-f71158b9b3fa"
      },
      "execution_count": null,
      "outputs": [
        {
          "output_type": "display_data",
          "data": {
            "text/plain": [
              "<Figure size 432x288 with 1 Axes>"
            ],
            "image/png": "[encoded data removed]"
          },
          "metadata": {}
        }
      ]
    },
    {
      "cell_type": "markdown",
      "source": [
        "#**Importance of the Features**"
      ],
      "metadata": {
        "id": "NrPhpwy7qQls"
      }
    },
    {
      "cell_type": "code",
      "source": [
        "clf.fit(X_train, y_train)\n",
        "\n",
        "features_dictionary = dict(zip(df.columns, clf.coef_[0]))\n",
        "\n",
        "features_df = pd.DataFrame(features_dictionary, index=[0])\n",
        "\n",
        "features_df.T.plot.bar(legend=False, title='Importance of the Features')"
      ],
      "metadata": {
        "colab": {
          "base_uri": "https://localhost:8080/",
          "height": 378
        },
        "id": "4w-wIN2b0NwY",
        "outputId": "0b338a5f-5574-4aeb-dcba-2b724a15c487"
      },
      "execution_count": null,
      "outputs": [
        {
          "output_type": "execute_result",
          "data": {
            "text/plain": [
              "<matplotlib.axes._subplots.AxesSubplot at 0x7fe75c78b390>"
            ]
          },
          "metadata": {},
          "execution_count": 226
        },
        {
          "output_type": "display_data",
          "data": {
            "text/plain": [
              "<Figure size 432x288 with 1 Axes>"
            ],
            "image/png": "[encoded data removed]"
          },
          "metadata": {}
        }
      ]
    },
    {
      "cell_type": "markdown",
      "source": [
        "# Saving the model"
      ],
      "metadata": {
        "id": "LxhctdMv1Pdp"
      }
    },
    {
      "cell_type": "code",
      "source": [
        "import joblib"
      ],
      "metadata": {
        "id": "EaoKu5zT5hxg"
      },
      "execution_count": null,
      "outputs": []
    },
    {
      "cell_type": "code",
      "source": [
        "joblib.dump(clf, filename=\"logistic_regression_classification_model.joblib\")"
      ],
      "metadata": {
        "colab": {
          "base_uri": "https://localhost:8080/"
        },
        "id": "IC9OoY055iok",
        "outputId": "cf67404d-0895-4b5e-da32-7052aa41d505"
      },
      "execution_count": null,
      "outputs": [
        {
          "output_type": "execute_result",
          "data": {
            "text/plain": [
              "['logistic_regression_classification_model.joblib']"
            ]
          },
          "metadata": {},
          "execution_count": 228
        }
      ]
    },
    {
      "cell_type": "code",
      "source": [
        ""
      ],
      "metadata": {
        "id": "-REBMyu459ug"
      },
      "execution_count": null,
      "outputs": []
    }
  ]
}